{
 "cells": [
  {
   "cell_type": "code",
   "execution_count": 1,
   "metadata": {},
   "outputs": [
    {
     "name": "stdout",
     "output_type": "stream",
     "text": [
      "PIMAYBEAMATHEMATICALLYUSEFULCONSTANTBUTWEATQPREFERTOAPPRECIATETHESIMPLISTICBEAUTYOFTHENUMBERFORTYTWO\n"
     ]
    }
   ],
   "source": [
    "import requests\n",
    "import numpy as np\n",
    "\n",
    "PI_URL = 'https://assets.angio.net/100000.txt'\n",
    "LETTER_MATRIX = \"\"\"TEAUHTTONR\n",
    "YCTBPIOTBT\n",
    "SAACEWTTMF\n",
    "EPAMEYEIMA\n",
    "EWTHUIAETF\n",
    "ERORSHLNUL\n",
    "TPAOSAFMYC\n",
    "EIPAULTRSE\n",
    "PNQRATBUYB\n",
    "ICMLEOIEFT\"\"\"\n",
    "\n",
    "\n",
    "def get_pi() -> str:\n",
    "    \"\"\"pi as string with 100.000 digits\"\"\"\n",
    "    return requests.get(PI_URL).text\n",
    "\n",
    "\n",
    "def get_q42_puzzle() -> np.ndarray:\n",
    "    \"\"\"Q42 2023 Christmas puzzle input\"\"\"\n",
    "    m = [list(line) for line in LETTER_MATRIX.split(\"\\n\")]\n",
    "    return np.asarray(m)\n",
    "\n",
    "\n",
    "def solve_puzzle(digits: list[int], matrix: np.ndarray) -> str:\n",
    "    \"\"\"solve Q42 Christmas puzzle;\n",
    "    see: https://blog.q42.nl/puzzle-challenge-2023/\"\"\"\n",
    "    msg = ''\n",
    "    used_coords = set()\n",
    "    for x, y in zip(digits[::2], digits[1::2]):\n",
    "        if (x, y) not in used_coords:\n",
    "            msg += matrix[x, y]\n",
    "            used_coords.add((x, y))\n",
    "        if len(msg) > 99:\n",
    "            break\n",
    "    return msg\n",
    "\n",
    "\n",
    "pi_decimals = [int(d) for d in get_pi()[2:]]\n",
    "letters = get_q42_puzzle()\n",
    "msg = solve_puzzle(pi_decimals, letters)\n",
    "print(msg)"
   ]
  }
 ],
 "metadata": {
  "kernelspec": {
   "display_name": "Python 3",
   "language": "python",
   "name": "python3"
  },
  "language_info": {
   "codemirror_mode": {
    "name": "ipython",
    "version": 3
   },
   "file_extension": ".py",
   "mimetype": "text/x-python",
   "name": "python",
   "nbconvert_exporter": "python",
   "pygments_lexer": "ipython3",
   "version": "3.11.4"
  }
 },
 "nbformat": 4,
 "nbformat_minor": 2
}
